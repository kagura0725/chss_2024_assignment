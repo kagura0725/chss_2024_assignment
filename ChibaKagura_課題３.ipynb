{
  "nbformat": 4,
  "nbformat_minor": 0,
  "metadata": {
    "colab": {
      "provenance": [],
      "authorship_tag": "ABX9TyN6GWSV07Lyl/Mn7yQ4E7nY",
      "include_colab_link": true
    },
    "kernelspec": {
      "name": "python3",
      "display_name": "Python 3"
    },
    "language_info": {
      "name": "python"
    }
  },
  "cells": [
    {
      "cell_type": "markdown",
      "metadata": {
        "id": "view-in-github",
        "colab_type": "text"
      },
      "source": [
        "<a href=\"https://colab.research.google.com/github/kagura0725/chss_2024_assignment/blob/main/ChibaKagura_%E8%AA%B2%E9%A1%8C%EF%BC%93.ipynb\" target=\"_parent\"><img src=\"https://colab.research.google.com/assets/colab-badge.svg\" alt=\"Open In Colab\"/></a>"
      ]
    },
    {
      "cell_type": "code",
      "execution_count": null,
      "metadata": {
        "id": "lf1SDCFP5kI9"
      },
      "outputs": [],
      "source": []
    },
    {
      "cell_type": "markdown",
      "source": [
        "第3回課題 千葉覚羅 C2LB1134"
      ],
      "metadata": {
        "id": "mz5C0UU055r5"
      }
    },
    {
      "cell_type": "markdown",
      "source": [
        "課題１\n",
        "1から100までの偶数の和を計算してください。\n",
        "\n"
      ],
      "metadata": {
        "id": "o3LDeoha56YA"
      }
    },
    {
      "cell_type": "code",
      "source": [
        "even_sum = 0\n",
        "for number in range(2,101,2) :\n",
        "  even_sum += number\n",
        "print (even_sum)"
      ],
      "metadata": {
        "colab": {
          "base_uri": "https://localhost:8080/"
        },
        "id": "JjWQOen96J7k",
        "outputId": "c9ed1d30-0859-4fdc-a08b-63b50565ac8a"
      },
      "execution_count": 2,
      "outputs": [
        {
          "output_type": "stream",
          "name": "stdout",
          "text": [
            "2550\n"
          ]
        }
      ]
    },
    {
      "cell_type": "markdown",
      "source": [
        "課題２\n",
        "被除数が100である場合、リストの値を除数とする割り算の結果を順番に計算するプログラムを実装してください。\n",
        "\n",
        "計算結果をprintで表示してください\n",
        "計算不可能の場合、ラーメッセージだけを表示してエラーが起きた回数をカウントし、計算を続けてください"
      ],
      "metadata": {
        "id": "LNCAFmf56plX"
      }
    },
    {
      "cell_type": "code",
      "source": [
        "import math\n",
        "s =[1,0,10,-25,-2,50,200]\n",
        "error_count=0"
      ],
      "metadata": {
        "id": "Wse1w-2f6xAo"
      },
      "execution_count": 3,
      "outputs": []
    },
    {
      "cell_type": "code",
      "source": [
        "dividend=100\n",
        "for divisor in s:\n",
        "  try:\n",
        "    result = dividend / divisor\n",
        "    print(f\"{dividend}/{divisor}={result}\")\n",
        "  except:\n",
        "    error_count += 1\n",
        "\n",
        "print(f\"Total errors: {error_count}\")"
      ],
      "metadata": {
        "colab": {
          "base_uri": "https://localhost:8080/"
        },
        "id": "fVSV9uRV7Kxs",
        "outputId": "6e409171-4e10-47ad-f7bc-9f15a88aeeea"
      },
      "execution_count": 6,
      "outputs": [
        {
          "output_type": "stream",
          "name": "stdout",
          "text": [
            "100/1=100.0\n",
            "100/10=10.0\n",
            "100/-25=-4.0\n",
            "100/-2=-50.0\n",
            "100/50=2.0\n",
            "100/200=0.5\n",
            "Total errors: 15\n"
          ]
        }
      ]
    },
    {
      "cell_type": "markdown",
      "source": [
        "課題３\n",
        "区間[0,100000]の間に存在するarmstrong numberをリストに格納しなさい。 armstrong numberとは、ある\n",
        "桁の正の整数が、その各桁の数をn乗した値の合計に等しい数のことです。\n",
        "\n",
        "例えば、3桁の数字153\n",
        "はarmstrong numberである\n",
        "1^3+5^3+3^3 = 1+125+27 = 153\n",
        "3桁の数字1634はアームストロング数である\n",
        "1^4+6^4+3^4+4^4=1+1296+81+256=1634"
      ],
      "metadata": {
        "id": "jBT49e7m8B2n"
      }
    },
    {
      "cell_type": "code",
      "source": [
        "lower = 0\n",
        "upper = 100000\n",
        "\n",
        "for num in range(lower, upper + 1):\n",
        "  order = len(str(num))\n",
        "  sum = 0\n",
        "\n",
        "  temp = num\n",
        "  while temp >0:\n",
        "    digit = temp % 10\n",
        "    sum += digit ** order\n",
        "    temp //= 10\n",
        "\n",
        "    if num == sum:\n",
        "      print(num)\n",
        "\n"
      ],
      "metadata": {
        "colab": {
          "base_uri": "https://localhost:8080/"
        },
        "id": "DofUDdZF9JXW",
        "outputId": "0a8f1ffb-232a-4209-982e-7307247fb6d7"
      },
      "execution_count": 7,
      "outputs": [
        {
          "output_type": "stream",
          "name": "stdout",
          "text": [
            "1\n",
            "2\n",
            "3\n",
            "4\n",
            "5\n",
            "6\n",
            "7\n",
            "8\n",
            "9\n",
            "25\n",
            "36\n",
            "125\n",
            "153\n",
            "216\n",
            "370\n",
            "371\n",
            "407\n",
            "729\n",
            "1296\n",
            "1634\n",
            "5648\n",
            "8208\n",
            "9474\n",
            "16807\n",
            "16807\n",
            "32768\n",
            "32800\n",
            "32801\n",
            "33824\n",
            "54748\n",
            "59049\n",
            "91819\n",
            "92727\n",
            "93084\n",
            "99836\n"
          ]
        }
      ]
    }
  ]
}